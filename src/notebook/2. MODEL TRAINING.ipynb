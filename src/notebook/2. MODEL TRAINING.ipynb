{
 "cells": [
  {
   "cell_type": "code",
   "execution_count": 3,
   "id": "bc0d374b",
   "metadata": {},
   "outputs": [],
   "source": [
    "import pandas as pd\n",
    "import numpy as np\n",
    "import seaborn as sns\n",
    "import matplotlib.pyplot as plt\n",
    "# %matplotlib inline\n",
    "from sklearn.metrics import mean_squared_error,r2_score\n",
    "from sklearn.neighbors import KNeighborsRegressor\n",
    "from sklearn.tree import DecisionTreeRegressor\n",
    "from sklearn.ensemble import RandomForestRegressor,AdaBoostRegressor\n",
    "from sklearn.svm import SVR\n",
    "from sklearn.linear_model import LinearRegression,Ridge,Lasso\n",
    "from sklearn.metrics import r2_score,mean_absolute_error,mean_squared_error\n",
    "from sklearn.model_selection import RandomizedSearchCV\n",
    "# from catboost import catBoostRegressor\n",
    "# from xgboost import XGBRegressor\n",
    "import warnings"
   ]
  },
  {
   "cell_type": "code",
   "execution_count": 4,
   "id": "031f122a",
   "metadata": {},
   "outputs": [],
   "source": [
    "df=pd.read_csv(\"data/StudentsPerformance.csv\")\n"
   ]
  },
  {
   "cell_type": "code",
   "execution_count": 19,
   "id": "b4af22c6",
   "metadata": {},
   "outputs": [],
   "source": [
    "X=df.drop(columns=['math score'],axis=1)\n",
    "y=df['math score']"
   ]
  },
  {
   "cell_type": "code",
   "execution_count": 20,
   "id": "c14e1143",
   "metadata": {},
   "outputs": [],
   "source": [
    "# create column transformeer with 3 types of treansformer\n",
    "num_features = X.select_dtypes(exclude=\"object\").columns\n",
    "cat_features = X.select_dtypes(include=\"object\").columns\n",
    "from sklearn.preprocessing import OneHotEncoder,StandardScaler\n",
    "from sklearn.compose import ColumnTransformer\n",
    "\n",
    "numeric_transformer=StandardScaler()\n",
    "oh_transformer=OneHotEncoder()\n",
    "preprocessor=ColumnTransformer(\n",
    "    [\n",
    "        (\"oneHotEncoder\",oh_transformer,cat_features),\n",
    "        (\"StandardScaler\",numeric_transformer,num_features),\n",
    "    ]\n",
    ")"
   ]
  },
  {
   "cell_type": "code",
   "execution_count": 21,
   "id": "c5d3fed2",
   "metadata": {},
   "outputs": [],
   "source": [
    "X=preprocessor.fit_transform(X)\n"
   ]
  },
  {
   "cell_type": "code",
   "execution_count": 22,
   "id": "3ca2ef15",
   "metadata": {},
   "outputs": [
    {
     "data": {
      "text/plain": [
       "array([[ 1.        ,  0.        ,  0.        , ...,  1.        ,\n",
       "         0.19399858,  0.39149181],\n",
       "       [ 1.        ,  0.        ,  0.        , ...,  0.        ,\n",
       "         1.42747598,  1.31326868],\n",
       "       [ 1.        ,  0.        ,  0.        , ...,  1.        ,\n",
       "         1.77010859,  1.64247471],\n",
       "       ...,\n",
       "       [ 1.        ,  0.        ,  0.        , ...,  0.        ,\n",
       "         0.12547206, -0.20107904],\n",
       "       [ 1.        ,  0.        ,  0.        , ...,  0.        ,\n",
       "         0.60515772,  0.58901542],\n",
       "       [ 1.        ,  0.        ,  0.        , ...,  1.        ,\n",
       "         1.15336989,  1.18158627]])"
      ]
     },
     "execution_count": 22,
     "metadata": {},
     "output_type": "execute_result"
    }
   ],
   "source": [
    "X"
   ]
  },
  {
   "cell_type": "code",
   "execution_count": 23,
   "id": "920152be",
   "metadata": {},
   "outputs": [
    {
     "data": {
      "text/plain": [
       "((800, 19), (200, 19))"
      ]
     },
     "execution_count": 23,
     "metadata": {},
     "output_type": "execute_result"
    }
   ],
   "source": [
    "# seperate dataset into train and test\n",
    "from sklearn.model_selection import train_test_split\n",
    "X_train,X_test,y_train,y_test=train_test_split(X,y,test_size=0.2,random_state=42)\n",
    "X_train.shape,X_test.shape"
   ]
  },
  {
   "cell_type": "code",
   "execution_count": 24,
   "id": "6b60aa7d",
   "metadata": {},
   "outputs": [],
   "source": [
    "##create a funcrion to evalutate model\n",
    "def evaluate_model(true,predicted):\n",
    "    mae=mean_absolute_error(true,predicted)\n",
    "    mse=mean_squared_error(true,predicted)\n",
    "    rmse=np.sqrt(mean_squared_error(true,predicted))\n",
    "    r2_scor=r2_score(true,predicted)\n",
    "    return mae,rmse,r2_scor\n"
   ]
  },
  {
   "cell_type": "code",
   "execution_count": 25,
   "id": "7db43b5e",
   "metadata": {},
   "outputs": [
    {
     "name": "stdout",
     "output_type": "stream",
     "text": [
      "linear Regression\n",
      "model performance for training set\n",
      "-  root mean squared error : 5.3274\n",
      "-  mean absoluate error : 4.2788\n",
      "-  R2 score : 0.8741\n",
      "------------------------------------------------------------\n",
      "model performance for test set\n",
      "-  root mean squared error : 5.3274\n",
      "-  mean absoluate error : 4.2788\n",
      "-  R2 score : 0.8741\n",
      "================================================================\n",
      "\n",
      "\n",
      "Lasso\n",
      "model performance for training set\n",
      "-  root mean squared error : 6.5938\n",
      "-  mean absoluate error : 5.2063\n",
      "-  R2 score : 0.8071\n",
      "------------------------------------------------------------\n",
      "model performance for test set\n",
      "-  root mean squared error : 6.5938\n",
      "-  mean absoluate error : 5.2063\n",
      "-  R2 score : 0.8071\n",
      "================================================================\n",
      "\n",
      "\n",
      "Ridge\n",
      "model performance for training set\n",
      "-  root mean squared error : 5.3233\n",
      "-  mean absoluate error : 4.2650\n",
      "-  R2 score : 0.8743\n",
      "------------------------------------------------------------\n",
      "model performance for test set\n",
      "-  root mean squared error : 5.3233\n",
      "-  mean absoluate error : 4.2650\n",
      "-  R2 score : 0.8743\n",
      "================================================================\n",
      "\n",
      "\n",
      "k-neighbour regressor\n",
      "model performance for training set\n",
      "-  root mean squared error : 5.7122\n",
      "-  mean absoluate error : 4.5187\n",
      "-  R2 score : 0.8553\n",
      "------------------------------------------------------------\n",
      "model performance for test set\n",
      "-  root mean squared error : 5.7122\n",
      "-  mean absoluate error : 4.5187\n",
      "-  R2 score : 0.8553\n",
      "================================================================\n",
      "\n",
      "\n",
      "Decision tree\n",
      "model performance for training set\n",
      "-  root mean squared error : 0.2795\n",
      "-  mean absoluate error : 0.0187\n",
      "-  R2 score : 0.9997\n",
      "------------------------------------------------------------\n",
      "model performance for test set\n",
      "-  root mean squared error : 0.2795\n",
      "-  mean absoluate error : 0.0187\n",
      "-  R2 score : 0.9997\n",
      "================================================================\n",
      "\n",
      "\n",
      "Random Forest Regressor\n",
      "model performance for training set\n",
      "-  root mean squared error : 2.3131\n",
      "-  mean absoluate error : 1.8374\n",
      "-  R2 score : 0.9763\n",
      "------------------------------------------------------------\n",
      "model performance for test set\n",
      "-  root mean squared error : 2.3131\n",
      "-  mean absoluate error : 1.8374\n",
      "-  R2 score : 0.9763\n",
      "================================================================\n",
      "\n",
      "\n"
     ]
    }
   ],
   "source": [
    "# beignning model training \n",
    "modles={\n",
    "    \"linear Regression\":LinearRegression(),\n",
    "    \"Lasso\":Lasso(),\n",
    "    \"Ridge\":Ridge(),\n",
    "    \"k-neighbour regressor\": KNeighborsRegressor(),\n",
    "    \"Decision tree\":DecisionTreeRegressor(),\n",
    "    \"Random Forest Regressor\":RandomForestRegressor(),\n",
    "}\n",
    "model_list=[]\n",
    "r2_list=[]\n",
    "\n",
    "for i in range (len(list(modles))):\n",
    "    model=list(modles.values())[i]\n",
    "    model.fit(X_train,y_train)\n",
    "\n",
    "\n",
    "    # make predectiond\n",
    "    y_train_pred=model.predict(X_train)\n",
    "    y_test_pred=model.predict(X_test)\n",
    "\n",
    "    # evaluate train and test dataset\n",
    "    model_train_mae, model_train_rmse, model_train_r2=evaluate_model(y_train,y_train_pred)\n",
    "    model_test_mae, model_test_rmse, model_test_r2=evaluate_model(y_test,y_test_pred)\n",
    "    \n",
    "\n",
    "\n",
    "\n",
    "\n",
    "    print(list(modles.keys())[i])\n",
    "    model_list.append(list(modles.keys())[i])\n",
    "\n",
    "    print('model performance for training set')\n",
    "    print(\"-  root mean squared error : {:.4f}\".format(model_train_rmse))\n",
    "    print(\"-  mean absoluate error : {:.4f}\".format(model_train_mae))\n",
    "    print(\"-  R2 score : {:.4f}\".format(model_train_r2))\n",
    "\n",
    "\n",
    "\n",
    "    print('------------------------------------------------------------')\n",
    "\n",
    "\n",
    "    print('model performance for test set')\n",
    "    print(\"-  root mean squared error : {:.4f}\".format(model_train_rmse))\n",
    "    print(\"-  mean absoluate error : {:.4f}\".format(model_train_mae))\n",
    "    print(\"-  R2 score : {:.4f}\".format(model_train_r2))\n",
    "    r2_list.append(model_test_r2)\n",
    "\n",
    "\n",
    "\n",
    "\n",
    "\n",
    "    print('================================================================')\n",
    "    \n",
    "    print('\\n')"
   ]
  },
  {
   "cell_type": "code",
   "execution_count": 26,
   "id": "96cc3849",
   "metadata": {},
   "outputs": [
    {
     "data": {
      "text/html": [
       "<div>\n",
       "<style scoped>\n",
       "    .dataframe tbody tr th:only-of-type {\n",
       "        vertical-align: middle;\n",
       "    }\n",
       "\n",
       "    .dataframe tbody tr th {\n",
       "        vertical-align: top;\n",
       "    }\n",
       "\n",
       "    .dataframe thead th {\n",
       "        text-align: right;\n",
       "    }\n",
       "</style>\n",
       "<table border=\"1\" class=\"dataframe\">\n",
       "  <thead>\n",
       "    <tr style=\"text-align: right;\">\n",
       "      <th></th>\n",
       "      <th>model name</th>\n",
       "      <th>R2_score</th>\n",
       "    </tr>\n",
       "  </thead>\n",
       "  <tbody>\n",
       "    <tr>\n",
       "      <th>2</th>\n",
       "      <td>Ridge</td>\n",
       "      <td>0.880593</td>\n",
       "    </tr>\n",
       "    <tr>\n",
       "      <th>0</th>\n",
       "      <td>linear Regression</td>\n",
       "      <td>0.879740</td>\n",
       "    </tr>\n",
       "    <tr>\n",
       "      <th>5</th>\n",
       "      <td>Random Forest Regressor</td>\n",
       "      <td>0.853354</td>\n",
       "    </tr>\n",
       "    <tr>\n",
       "      <th>1</th>\n",
       "      <td>Lasso</td>\n",
       "      <td>0.825320</td>\n",
       "    </tr>\n",
       "    <tr>\n",
       "      <th>3</th>\n",
       "      <td>k-neighbour regressor</td>\n",
       "      <td>0.783898</td>\n",
       "    </tr>\n",
       "    <tr>\n",
       "      <th>4</th>\n",
       "      <td>Decision tree</td>\n",
       "      <td>0.751539</td>\n",
       "    </tr>\n",
       "  </tbody>\n",
       "</table>\n",
       "</div>"
      ],
      "text/plain": [
       "                model name  R2_score\n",
       "2                    Ridge  0.880593\n",
       "0        linear Regression  0.879740\n",
       "5  Random Forest Regressor  0.853354\n",
       "1                    Lasso  0.825320\n",
       "3    k-neighbour regressor  0.783898\n",
       "4            Decision tree  0.751539"
      ]
     },
     "execution_count": 26,
     "metadata": {},
     "output_type": "execute_result"
    }
   ],
   "source": [
    "pd.DataFrame(list(zip(model_list,r2_list)),columns=['model name','R2_score']).sort_values(by=[\"R2_score\"],ascending=False)"
   ]
  },
  {
   "cell_type": "code",
   "execution_count": null,
   "id": "52c8d6b0",
   "metadata": {},
   "outputs": [],
   "source": []
  }
 ],
 "metadata": {
  "kernelspec": {
   "display_name": "Python 3",
   "language": "python",
   "name": "python3"
  },
  "language_info": {
   "codemirror_mode": {
    "name": "ipython",
    "version": 3
   },
   "file_extension": ".py",
   "mimetype": "text/x-python",
   "name": "python",
   "nbconvert_exporter": "python",
   "pygments_lexer": "ipython3",
   "version": "3.8.0"
  }
 },
 "nbformat": 4,
 "nbformat_minor": 5
}
