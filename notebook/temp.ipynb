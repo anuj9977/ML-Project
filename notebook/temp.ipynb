{
 "cells": [
  {
   "cell_type": "code",
   "execution_count": 1,
   "id": "a68110af",
   "metadata": {},
   "outputs": [],
   "source": [
    "\n",
    "import pandas as pd\n",
    "import numpy as np\n",
    "import seaborn as sns\n",
    "import matplotlib.pyplot as plt\n",
    "# %matplotlib inline\n",
    "from sklearn.metrics import mean_squared_error,r2_score\n",
    "from sklearn.neighbors import KNeighborsRegressor\n",
    "from sklearn.tree import DecisionTreeRegressor\n",
    "from sklearn.ensemble import RandomForestRegressor,AdaBoostRegressor\n",
    "from sklearn.svm import SVR\n",
    "from sklearn.linear_model import LinearRegression,Ridge,Lasso\n",
    "from sklearn.metrics import r2_score,mean_absolute_error,mean_squared_error\n",
    "from sklearn.model_selection import RandomizedSearchCV\n",
    "# from catboost import catBoostRegressor\n",
    "# from xgboost import XGBRegressor\n",
    "import warnings"
   ]
  },
  {
   "cell_type": "code",
   "execution_count": 2,
   "id": "45cfc445",
   "metadata": {},
   "outputs": [],
   "source": [
    "\n",
    "df=pd.read_csv(\"data/StudentsPerformance.csv\")\n"
   ]
  },
  {
   "cell_type": "code",
   "execution_count": 3,
   "id": "1965aa20",
   "metadata": {},
   "outputs": [],
   "source": [
    "\n",
    "X=df.drop(columns=['math score'],axis=1)\n",
    "y=df['math score']\n"
   ]
  },
  {
   "cell_type": "code",
   "execution_count": 4,
   "id": "e12b5bf8",
   "metadata": {},
   "outputs": [],
   "source": [
    "# create column transformeer with 3 types of treansformer\n",
    "num_features = X.select_dtypes(exclude=\"object\").columns\n",
    "cat_features = X.select_dtypes(include=\"object\").columns\n",
    "from sklearn.preprocessing import OneHotEncoder,StandardScaler\n",
    "from sklearn.compose import ColumnTransformer\n",
    "\n",
    "numeric_transformer=StandardScaler()\n",
    "oh_transformer=OneHotEncoder()\n",
    "preprocessor=ColumnTransformer(\n",
    "    [\n",
    "        (\"oneHotEncoder\",oh_transformer,cat_features),\n",
    "        (\"StandardScaler\",numeric_transformer,num_features),\n",
    "    ]\n",
    ")"
   ]
  },
  {
   "cell_type": "code",
   "execution_count": 5,
   "id": "edb5b341",
   "metadata": {},
   "outputs": [],
   "source": [
    "\n",
    "X=preprocessor.fit_transform(X)"
   ]
  },
  {
   "cell_type": "code",
   "execution_count": 6,
   "id": "96fe0490",
   "metadata": {},
   "outputs": [
    {
     "data": {
      "text/plain": [
       "array([[ 1.        ,  0.        ,  0.        , ...,  1.        ,\n",
       "         0.19399858,  0.39149181],\n",
       "       [ 1.        ,  0.        ,  0.        , ...,  0.        ,\n",
       "         1.42747598,  1.31326868],\n",
       "       [ 1.        ,  0.        ,  0.        , ...,  1.        ,\n",
       "         1.77010859,  1.64247471],\n",
       "       ...,\n",
       "       [ 1.        ,  0.        ,  0.        , ...,  0.        ,\n",
       "         0.12547206, -0.20107904],\n",
       "       [ 1.        ,  0.        ,  0.        , ...,  0.        ,\n",
       "         0.60515772,  0.58901542],\n",
       "       [ 1.        ,  0.        ,  0.        , ...,  1.        ,\n",
       "         1.15336989,  1.18158627]])"
      ]
     },
     "execution_count": 6,
     "metadata": {},
     "output_type": "execute_result"
    }
   ],
   "source": [
    "X"
   ]
  },
  {
   "cell_type": "code",
   "execution_count": 7,
   "id": "371e9f88",
   "metadata": {},
   "outputs": [
    {
     "data": {
      "text/plain": [
       "((800, 19), (200, 19))"
      ]
     },
     "execution_count": 7,
     "metadata": {},
     "output_type": "execute_result"
    }
   ],
   "source": [
    "\n",
    "# seperate dataset into train and test\n",
    "from sklearn.model_selection import train_test_split\n",
    "X_train,X_test,y_train,y_test=train_test_split(X,y,test_size=0.2,random_state=42)\n",
    "X_train.shape,X_test.shape"
   ]
  },
  {
   "cell_type": "code",
   "execution_count": 8,
   "id": "7567df9c",
   "metadata": {},
   "outputs": [],
   "source": [
    "\n",
    "##create a funcrion to evalutate model\n",
    "def evaluate_model(true,predicted):\n",
    "    mae=mean_absolute_error(true,predicted)\n",
    "    mse=mean_squared_error(true,predicted)\n",
    "    rmse=np.sqrt(mean_squared_error(true,predicted))\n",
    "    r2_scor=r2_score(true,predicted)\n",
    "    return mae,rmse,r2_scor"
   ]
  },
  {
   "cell_type": "code",
   "execution_count": 9,
   "id": "808d6248",
   "metadata": {},
   "outputs": [
    {
     "name": "stdout",
     "output_type": "stream",
     "text": [
      "linear Regression\n",
      "model performance for training set\n",
      "-  root mean squared error : 5.3274\n",
      "-  mean absoluate error : 4.2788\n",
      "-  R2 score : 0.8741\n",
      "------------------------------------------------------------\n",
      "model performance for test set\n",
      "-  root mean squared error : 5.3274\n",
      "-  mean absoluate error : 4.2788\n",
      "-  R2 score : 0.8741\n",
      "================================================================\n",
      "\n",
      "\n",
      "Lasso\n",
      "model performance for training set\n",
      "-  root mean squared error : 6.5938\n",
      "-  mean absoluate error : 5.2063\n",
      "-  R2 score : 0.8071\n",
      "------------------------------------------------------------\n",
      "model performance for test set\n",
      "-  root mean squared error : 6.5938\n",
      "-  mean absoluate error : 5.2063\n",
      "-  R2 score : 0.8071\n",
      "================================================================\n",
      "\n",
      "\n",
      "Ridge\n",
      "model performance for training set\n",
      "-  root mean squared error : 5.3233\n",
      "-  mean absoluate error : 4.2650\n",
      "-  R2 score : 0.8743\n",
      "------------------------------------------------------------\n",
      "model performance for test set\n",
      "-  root mean squared error : 5.3233\n",
      "-  mean absoluate error : 4.2650\n",
      "-  R2 score : 0.8743\n",
      "================================================================\n",
      "\n",
      "\n",
      "k-neighbour regressor\n",
      "model performance for training set\n",
      "-  root mean squared error : 5.7122\n",
      "-  mean absoluate error : 4.5187\n",
      "-  R2 score : 0.8553\n",
      "------------------------------------------------------------\n",
      "model performance for test set\n",
      "-  root mean squared error : 5.7122\n",
      "-  mean absoluate error : 4.5187\n",
      "-  R2 score : 0.8553\n",
      "================================================================\n",
      "\n",
      "\n",
      "Decision tree\n",
      "model performance for training set\n",
      "-  root mean squared error : 0.2795\n",
      "-  mean absoluate error : 0.0187\n",
      "-  R2 score : 0.9997\n",
      "------------------------------------------------------------\n",
      "model performance for test set\n",
      "-  root mean squared error : 0.2795\n",
      "-  mean absoluate error : 0.0187\n",
      "-  R2 score : 0.9997\n",
      "================================================================\n",
      "\n",
      "\n",
      "Random Forest Regressor\n",
      "model performance for training set\n",
      "-  root mean squared error : 2.2759\n",
      "-  mean absoluate error : 1.8387\n",
      "-  R2 score : 0.9770\n",
      "------------------------------------------------------------\n",
      "model performance for test set\n",
      "-  root mean squared error : 2.2759\n",
      "-  mean absoluate error : 1.8387\n",
      "-  R2 score : 0.9770\n",
      "================================================================\n",
      "\n",
      "\n"
     ]
    }
   ],
   "source": [
    "# beignning model training \n",
    "modles={\n",
    "    \"linear Regression\":LinearRegression(),\n",
    "    \"Lasso\":Lasso(),\n",
    "    \"Ridge\":Ridge(),\n",
    "    \"k-neighbour regressor\": KNeighborsRegressor(),\n",
    "    \"Decision tree\":DecisionTreeRegressor(),\n",
    "    \"Random Forest Regressor\":RandomForestRegressor(),\n",
    "}\n",
    "model_list=[]\n",
    "r2_list=[]\n",
    "\n",
    "for i in range (len(list(modles))):\n",
    "    model=list(modles.values())[i]\n",
    "    model.fit(X_train,y_train)\n",
    "\n",
    "\n",
    "    # make predectiond\n",
    "    y_train_pred=model.predict(X_train)\n",
    "    y_test_pred=model.predict(X_test)\n",
    "\n",
    "    # evaluate train and test dataset\n",
    "    model_train_mae, model_train_rmse, model_train_r2=evaluate_model(y_train,y_train_pred)\n",
    "    model_test_mae, model_test_rmse, model_test_r2=evaluate_model(y_test,y_test_pred)\n",
    "    \n",
    "\n",
    "\n",
    "\n",
    "\n",
    "    print(list(modles.keys())[i])\n",
    "    model_list.append(list(modles.keys())[i])\n",
    "\n",
    "    print('model performance for training set')\n",
    "    print(\"-  root mean squared error : {:.4f}\".format(model_train_rmse))\n",
    "    print(\"-  mean absoluate error : {:.4f}\".format(model_train_mae))\n",
    "    print(\"-  R2 score : {:.4f}\".format(model_train_r2))\n",
    "\n",
    "\n",
    "\n",
    "    print('------------------------------------------------------------')\n",
    "\n",
    "\n",
    "    print('model performance for test set')\n",
    "    print(\"-  root mean squared error : {:.4f}\".format(model_train_rmse))\n",
    "    print(\"-  mean absoluate error : {:.4f}\".format(model_train_mae))\n",
    "    print(\"-  R2 score : {:.4f}\".format(model_train_r2))\n",
    "    r2_list.append(model_test_r2)\n",
    "\n",
    "\n",
    "\n",
    "\n",
    "\n",
    "    print('================================================================')\n",
    "    \n",
    "    print('\\n')"
   ]
  },
  {
   "cell_type": "code",
   "execution_count": 10,
   "id": "28f630c1",
   "metadata": {},
   "outputs": [
    {
     "data": {
      "text/html": [
       "<div>\n",
       "<style scoped>\n",
       "    .dataframe tbody tr th:only-of-type {\n",
       "        vertical-align: middle;\n",
       "    }\n",
       "\n",
       "    .dataframe tbody tr th {\n",
       "        vertical-align: top;\n",
       "    }\n",
       "\n",
       "    .dataframe thead th {\n",
       "        text-align: right;\n",
       "    }\n",
       "</style>\n",
       "<table border=\"1\" class=\"dataframe\">\n",
       "  <thead>\n",
       "    <tr style=\"text-align: right;\">\n",
       "      <th></th>\n",
       "      <th>model name</th>\n",
       "      <th>R2_score</th>\n",
       "    </tr>\n",
       "  </thead>\n",
       "  <tbody>\n",
       "    <tr>\n",
       "      <th>2</th>\n",
       "      <td>Ridge</td>\n",
       "      <td>0.880593</td>\n",
       "    </tr>\n",
       "    <tr>\n",
       "      <th>0</th>\n",
       "      <td>linear Regression</td>\n",
       "      <td>0.879740</td>\n",
       "    </tr>\n",
       "    <tr>\n",
       "      <th>5</th>\n",
       "      <td>Random Forest Regressor</td>\n",
       "      <td>0.852886</td>\n",
       "    </tr>\n",
       "    <tr>\n",
       "      <th>1</th>\n",
       "      <td>Lasso</td>\n",
       "      <td>0.825320</td>\n",
       "    </tr>\n",
       "    <tr>\n",
       "      <th>3</th>\n",
       "      <td>k-neighbour regressor</td>\n",
       "      <td>0.783898</td>\n",
       "    </tr>\n",
       "    <tr>\n",
       "      <th>4</th>\n",
       "      <td>Decision tree</td>\n",
       "      <td>0.739684</td>\n",
       "    </tr>\n",
       "  </tbody>\n",
       "</table>\n",
       "</div>"
      ],
      "text/plain": [
       "                model name  R2_score\n",
       "2                    Ridge  0.880593\n",
       "0        linear Regression  0.879740\n",
       "5  Random Forest Regressor  0.852886\n",
       "1                    Lasso  0.825320\n",
       "3    k-neighbour regressor  0.783898\n",
       "4            Decision tree  0.739684"
      ]
     },
     "execution_count": 10,
     "metadata": {},
     "output_type": "execute_result"
    }
   ],
   "source": [
    "pd.DataFrame(list(zip(model_list,r2_list)),columns=['model name','R2_score']).sort_values(by=[\"R2_score\"],ascending=False)\n"
   ]
  },
  {
   "cell_type": "code",
   "execution_count": 11,
   "id": "0410dbd3",
   "metadata": {},
   "outputs": [
    {
     "name": "stdout",
     "output_type": "stream",
     "text": [
      "accuracy of the model is 87.97\n"
     ]
    }
   ],
   "source": [
    "# LINEAR REGRESSION\n",
    "lin_model=LinearRegression(fit_intercept=True)\n",
    "lin_model=lin_model.fit(X_train,y_train)\n",
    "y_pred=lin_model.predict(X_test)\n",
    "score=r2_score(y_test,y_pred)*100\n",
    "print(\"accuracy of the model is %.2f\" %score)\n"
   ]
  },
  {
   "cell_type": "code",
   "execution_count": 12,
   "id": "48348fea",
   "metadata": {},
   "outputs": [
    {
     "data": {
      "text/plain": [
       "Text(0, 0.5, 'predicated')"
      ]
     },
     "execution_count": 12,
     "metadata": {},
     "output_type": "execute_result"
    },
    {
     "data": {
      "image/png": "[encoded data removed]",
      "text/plain": [
       "<Figure size 640x480 with 1 Axes>"
      ]
     },
     "metadata": {},
     "output_type": "display_data"
    }
   ],
   "source": [
    "# plot y_pred and y_test\n",
    "plt.scatter(y_test,y_pred)\n",
    "plt.xlabel('Actual')\n",
    "plt.ylabel('predicated')"
   ]
  },
  {
   "cell_type": "code",
   "execution_count": 13,
   "id": "0c5bff3b",
   "metadata": {},
   "outputs": [
    {
     "data": {
      "text/plain": [
       "<Axes: xlabel='math score'>"
      ]
     },
     "execution_count": 13,
     "metadata": {},
     "output_type": "execute_result"
    },
    {
     "data": {
      "image/png": "[encoded data removed]",
      "text/plain": [
       "<Figure size 640x480 with 1 Axes>"
      ]
     },
     "metadata": {},
     "output_type": "display_data"
    }
   ],
   "source": [
    "sns.regplot(x=y_test,y=y_pred,ci=None,color='red')\n"
   ]
  },
  {
   "cell_type": "code",
   "execution_count": null,
   "id": "c2aa520d",
   "metadata": {},
   "outputs": [
    {
     "data": {
      "text/html": [
       "<div>\n",
       "<style scoped>\n",
       "    .dataframe tbody tr th:only-of-type {\n",
       "        vertical-align: middle;\n",
       "    }\n",
       "\n",
       "    .dataframe tbody tr th {\n",
       "        vertical-align: top;\n",
       "    }\n",
       "\n",
       "    .dataframe thead th {\n",
       "        text-align: right;\n",
       "    }\n",
       "</style>\n",
       "<table border=\"1\" class=\"dataframe\">\n",
       "  <thead>\n",
       "    <tr style=\"text-align: right;\">\n",
       "      <th></th>\n",
       "      <th>Actual Value</th>\n",
       "      <th>predicted Value</th>\n",
       "      <th>Difference</th>\n",
       "    </tr>\n",
       "  </thead>\n",
       "  <tbody>\n",
       "    <tr>\n",
       "      <th>521</th>\n",
       "      <td>91</td>\n",
       "      <td>76.703125</td>\n",
       "      <td>14.296875</td>\n",
       "    </tr>\n",
       "    <tr>\n",
       "      <th>737</th>\n",
       "      <td>53</td>\n",
       "      <td>58.578125</td>\n",
       "      <td>-5.578125</td>\n",
       "    </tr>\n",
       "    <tr>\n",
       "      <th>740</th>\n",
       "      <td>80</td>\n",
       "      <td>76.828125</td>\n",
       "      <td>3.171875</td>\n",
       "    </tr>\n",
       "    <tr>\n",
       "      <th>660</th>\n",
       "      <td>74</td>\n",
       "      <td>76.734375</td>\n",
       "      <td>-2.734375</td>\n",
       "    </tr>\n",
       "    <tr>\n",
       "      <th>411</th>\n",
       "      <td>84</td>\n",
       "      <td>87.484375</td>\n",
       "      <td>-3.484375</td>\n",
       "    </tr>\n",
       "    <tr>\n",
       "      <th>...</th>\n",
       "      <td>...</td>\n",
       "      <td>...</td>\n",
       "      <td>...</td>\n",
       "    </tr>\n",
       "    <tr>\n",
       "      <th>408</th>\n",
       "      <td>52</td>\n",
       "      <td>43.125000</td>\n",
       "      <td>8.875000</td>\n",
       "    </tr>\n",
       "    <tr>\n",
       "      <th>332</th>\n",
       "      <td>62</td>\n",
       "      <td>62.109375</td>\n",
       "      <td>-0.109375</td>\n",
       "    </tr>\n",
       "    <tr>\n",
       "      <th>208</th>\n",
       "      <td>74</td>\n",
       "      <td>67.562500</td>\n",
       "      <td>6.437500</td>\n",
       "    </tr>\n",
       "    <tr>\n",
       "      <th>613</th>\n",
       "      <td>65</td>\n",
       "      <td>67.328125</td>\n",
       "      <td>-2.328125</td>\n",
       "    </tr>\n",
       "    <tr>\n",
       "      <th>78</th>\n",
       "      <td>61</td>\n",
       "      <td>62.312500</td>\n",
       "      <td>-1.312500</td>\n",
       "    </tr>\n",
       "  </tbody>\n",
       "</table>\n",
       "<p>200 rows × 3 columns</p>\n",
       "</div>"
      ],
      "text/plain": [
       "     Actual Value  predicted Value  Difference\n",
       "521            91        76.703125   14.296875\n",
       "737            53        58.578125   -5.578125\n",
       "740            80        76.828125    3.171875\n",
       "660            74        76.734375   -2.734375\n",
       "411            84        87.484375   -3.484375\n",
       "..            ...              ...         ...\n",
       "408            52        43.125000    8.875000\n",
       "332            62        62.109375   -0.109375\n",
       "208            74        67.562500    6.437500\n",
       "613            65        67.328125   -2.328125\n",
       "78             61        62.312500   -1.312500\n",
       "\n",
       "[200 rows x 3 columns]"
      ]
     },
     "execution_count": 15,
     "metadata": {},
     "output_type": "execute_result"
    }
   ],
   "source": [
    "# Difference between actual and predicted values\n",
    "pred_df=pd.DataFrame({})\n",
    "pred_df"
   ]
  }
 ],
 "metadata": {
  "kernelspec": {
   "display_name": "Python 3",
   "language": "python",
   "name": "python3"
  },
  "language_info": {
   "codemirror_mode": {
    "name": "ipython",
    "version": 3
   },
   "file_extension": ".py",
   "mimetype": "text/x-python",
   "name": "python",
   "nbconvert_exporter": "python",
   "pygments_lexer": "ipython3",
   "version": "3.8.0"
  }
 },
 "nbformat": 4,
 "nbformat_minor": 5
}
